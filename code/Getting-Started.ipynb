{
 "cells": [
  {
   "cell_type": "markdown",
   "metadata": {
    "deletable": true,
    "editable": true
   },
   "source": [
    "# Welcome to the Scholar’s Backpack! \n",
    "\n",
    "This notebook is intended to orient you to the environment and help you get started working with it. \n",
    "\n",
    "The Github repository for the Scholar’s Backpack is located here, along with a useful README for setting up future virtual environments: https://github.com/NCSU-Libraries/Scholars-Backpack ."
   ]
  },
  {
   "cell_type": "markdown",
   "metadata": {
    "collapsed": true,
    "deletable": true,
    "editable": true
   },
   "source": [
    "# Getting Started\n",
    "\n",
    "If you are reading this, your virtual machine is set up and you are able to interact with it. That means that you are running the Centos 7 operating system, a Linux environment, without the Graphical User Interface (GUI) turned on. At this point a Jupyter server has also been started.\n",
    "\n",
    "Jupyter notebooks are accessible from https://localhost:5453.\n",
    "\n",
    "R Studio is accessible from https://localhost:5452. The default credentials for logging in are:\n",
    "\n",
    ">**Username:** vagrant \n",
    ">\n",
    ">**Password:** vagrant\n",
    "    \n",
    "The two ports (5453 and 5452) are set in the vagrantfile and can be changed to suit your needs. "
   ]
  },
  {
   "cell_type": "markdown",
   "metadata": {
    "collapsed": true,
    "deletable": true,
    "editable": true
   },
   "source": [
    "### Understanding the Scholar’s Backpack folder structure:\n",
    "\n",
    "* Vagrant <- Vagrant is the name of the tool that structures the virtual environment. The way it does this is through the Vagrantfile located here.\n",
    "    * Ansible <- Ansible is the name of the tool that provisions the environment. The files in this folder set up the elements of the environment.\n",
    "    * Code <- This folder is where examples, resources, and files you create are stored by default. It is your working directory on startup. "
   ]
  },
  {
   "cell_type": "markdown",
   "metadata": {
    "collapsed": true,
    "deletable": true,
    "editable": true
   },
   "source": [
    "### About Jupyter Notebooks\n",
    "\n",
    "Jupyter Notebooks are web applications which means that they need to be hosted on a server in order for you to access them interactively. This is lets you view them in the browser. \n",
    "\n",
    "The Scholar’s Backpack automatically launches the server and does so in a way that allows you to open Jupyter notebooks in both the virtual machine and on your local machine. "
   ]
  },
  {
   "cell_type": "markdown",
   "metadata": {
    "collapsed": true,
    "deletable": true,
    "editable": true
   },
   "source": [
    "# Resources: What’s Included?\n",
    "\n",
    "We have included a few courses that touch on some of the libraries included in this system. They are intended as a way of stepping through the new tools, interacting with the environment, and \n",
    "\n",
    "Begin by checking out the Jupyter introduction from the iPython folks. Jupyter is the next step of the iPython project and the \n",
    "\n",
    "All courses are open resources published under CCA 3.0 or MIT Licenses. \n",
    "\n",
    "Notebooks included are:\n",
    "* Jupyter Demo of Running Code in a Notebook\n",
    "* Jupyter Demo of R \n",
    "    * This is a Notebook designed by the Jupyter Project to demonstrate how R intersects with the Jupyter environment. \n",
    "* Rajath Kumar’s Introductory Python Lectures\n",
    "    * These courses cover the basics of Python for absolute beginners but also address more advanced use cases for scientific computing with Python. \n",
    "* Jake Vanderplas’ Python Data Science Handbook\n",
    "    * This course steps through the conceptual framework of Scientific Computing with Python, goes on to cover the basics of the Python programming language, and  \n",
    "\n",
    "This list is in the recommended order for newcomers to the environment. Begin by orienting to Running Code in a Notebook, continue with a better understanding of how Jupyter Notebooks run programming languages other than Python (notably R), and then step through learning materials for Scientific Computing with Python broadly and Python in the context of Data Science specifically.\n",
    "\n",
    "It should be noted that these courses are included as both introductory material, as a demo of the capacity of Jupyter Notebooks, and as a way of interacting with some of the libraries included in this environment. \n",
    "\n",
    "More resources will be added in the future. \n",
    "\n",
    "\n"
   ]
  },
  {
   "cell_type": "code",
   "execution_count": null,
   "metadata": {
    "collapsed": true,
    "deletable": true,
    "editable": true
   },
   "outputs": [],
   "source": []
  }
 ],
 "metadata": {
  "kernelspec": {
   "display_name": "Python 3",
   "language": "python",
   "name": "python3"
  },
  "language_info": {
   "codemirror_mode": {
    "name": "ipython",
    "version": 3
   },
   "file_extension": ".py",
   "mimetype": "text/x-python",
   "name": "python",
   "nbconvert_exporter": "python",
   "pygments_lexer": "ipython3",
   "version": "3.6.0"
  }
 },
 "nbformat": 4,
 "nbformat_minor": 1
}
